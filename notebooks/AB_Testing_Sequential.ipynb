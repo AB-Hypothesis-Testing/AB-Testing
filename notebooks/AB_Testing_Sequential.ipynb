{
 "cells": [
  {
   "cell_type": "markdown",
   "id": "5a1017ea",
   "metadata": {},
   "source": [
    "## Sequential A/B Testing"
   ]
  },
  {
   "cell_type": "markdown",
   "id": "35c4fd0e",
   "metadata": {},
   "source": [
    "### Importing Liberaries"
   ]
  },
  {
   "cell_type": "code",
   "execution_count": 2,
   "id": "d330eae3",
   "metadata": {},
   "outputs": [],
   "source": [
    "import os\n",
    "import sys\n",
    "import random\n",
    "import math\n",
    "import numpy as np\n",
    "import pandas as pd\n",
    "import matplotlib.pyplot as plt\n",
    "import warnings\n",
    "import scipy.stats as scs\n",
    "warnings.filterwarnings(\"ignore\")"
   ]
  },
  {
   "cell_type": "markdown",
   "id": "981d0f90",
   "metadata": {},
   "source": [
    "### Load the data"
   ]
  },
  {
   "cell_type": "code",
   "execution_count": 4,
   "id": "972ac1a3",
   "metadata": {},
   "outputs": [
    {
     "data": {
      "text/html": [
       "<div>\n",
       "<style scoped>\n",
       "    .dataframe tbody tr th:only-of-type {\n",
       "        vertical-align: middle;\n",
       "    }\n",
       "\n",
       "    .dataframe tbody tr th {\n",
       "        vertical-align: top;\n",
       "    }\n",
       "\n",
       "    .dataframe thead th {\n",
       "        text-align: right;\n",
       "    }\n",
       "</style>\n",
       "<table border=\"1\" class=\"dataframe\">\n",
       "  <thead>\n",
       "    <tr style=\"text-align: right;\">\n",
       "      <th></th>\n",
       "      <th>auction_id</th>\n",
       "      <th>experiment</th>\n",
       "      <th>date</th>\n",
       "      <th>hour</th>\n",
       "      <th>device_make</th>\n",
       "      <th>platform_os</th>\n",
       "      <th>browser</th>\n",
       "      <th>yes</th>\n",
       "      <th>no</th>\n",
       "    </tr>\n",
       "  </thead>\n",
       "  <tbody>\n",
       "    <tr>\n",
       "      <th>0</th>\n",
       "      <td>0008ef63-77a7-448b-bd1e-075f42c55e39</td>\n",
       "      <td>exposed</td>\n",
       "      <td>2020-07-10</td>\n",
       "      <td>8</td>\n",
       "      <td>Generic Smartphone</td>\n",
       "      <td>6</td>\n",
       "      <td>Chrome Mobile</td>\n",
       "      <td>0</td>\n",
       "      <td>0</td>\n",
       "    </tr>\n",
       "    <tr>\n",
       "      <th>1</th>\n",
       "      <td>000eabc5-17ce-4137-8efe-44734d914446</td>\n",
       "      <td>exposed</td>\n",
       "      <td>2020-07-07</td>\n",
       "      <td>10</td>\n",
       "      <td>Generic Smartphone</td>\n",
       "      <td>6</td>\n",
       "      <td>Chrome Mobile</td>\n",
       "      <td>0</td>\n",
       "      <td>0</td>\n",
       "    </tr>\n",
       "    <tr>\n",
       "      <th>2</th>\n",
       "      <td>0016d14a-ae18-4a02-a204-6ba53b52f2ed</td>\n",
       "      <td>exposed</td>\n",
       "      <td>2020-07-05</td>\n",
       "      <td>2</td>\n",
       "      <td>E5823</td>\n",
       "      <td>6</td>\n",
       "      <td>Chrome Mobile WebView</td>\n",
       "      <td>0</td>\n",
       "      <td>1</td>\n",
       "    </tr>\n",
       "    <tr>\n",
       "      <th>3</th>\n",
       "      <td>00187412-2932-4542-a8ef-3633901c98d9</td>\n",
       "      <td>control</td>\n",
       "      <td>2020-07-03</td>\n",
       "      <td>15</td>\n",
       "      <td>Samsung SM-A705FN</td>\n",
       "      <td>6</td>\n",
       "      <td>Facebook</td>\n",
       "      <td>0</td>\n",
       "      <td>0</td>\n",
       "    </tr>\n",
       "    <tr>\n",
       "      <th>4</th>\n",
       "      <td>001a7785-d3fe-4e11-a344-c8735acacc2c</td>\n",
       "      <td>control</td>\n",
       "      <td>2020-07-03</td>\n",
       "      <td>15</td>\n",
       "      <td>Generic Smartphone</td>\n",
       "      <td>6</td>\n",
       "      <td>Chrome Mobile</td>\n",
       "      <td>0</td>\n",
       "      <td>0</td>\n",
       "    </tr>\n",
       "  </tbody>\n",
       "</table>\n",
       "</div>"
      ],
      "text/plain": [
       "                             auction_id experiment        date  hour  \\\n",
       "0  0008ef63-77a7-448b-bd1e-075f42c55e39    exposed  2020-07-10     8   \n",
       "1  000eabc5-17ce-4137-8efe-44734d914446    exposed  2020-07-07    10   \n",
       "2  0016d14a-ae18-4a02-a204-6ba53b52f2ed    exposed  2020-07-05     2   \n",
       "3  00187412-2932-4542-a8ef-3633901c98d9    control  2020-07-03    15   \n",
       "4  001a7785-d3fe-4e11-a344-c8735acacc2c    control  2020-07-03    15   \n",
       "\n",
       "          device_make  platform_os                browser  yes  no  \n",
       "0  Generic Smartphone            6          Chrome Mobile    0   0  \n",
       "1  Generic Smartphone            6          Chrome Mobile    0   0  \n",
       "2               E5823            6  Chrome Mobile WebView    0   1  \n",
       "3   Samsung SM-A705FN            6               Facebook    0   0  \n",
       "4  Generic Smartphone            6          Chrome Mobile    0   0  "
      ]
     },
     "execution_count": 4,
     "metadata": {},
     "output_type": "execute_result"
    }
   ],
   "source": [
    "df = pd.read_csv(\"../data/AdSmartABdata.csv\")\n",
    "df.head()"
   ]
  },
  {
   "cell_type": "markdown",
   "id": "41fa01a5",
   "metadata": {},
   "source": [
    "### Transforming the data"
   ]
  },
  {
   "cell_type": "code",
   "execution_count": 5,
   "id": "80012d71",
   "metadata": {},
   "outputs": [],
   "source": [
    "def transform_data(df):\n",
    "    '''\n",
    "        segment data into exposed and control groups\n",
    "        consider that SmartAd runs the experment hourly, group data into hours. \n",
    "            Hint: create new column to hold date+hour and use df.column.map(lambda x:  pd.Timestamp(x,tz=None).strftime('%Y-%m-%d:%H'))\n",
    "        create two dataframes with bernouli series 1 for posetive(yes) and 0 for negative(no)\n",
    "            Hint: Given engagement(sum of yes and no until current observation as an array) and success (yes countas an array), the method generates random binomial distribution\n",
    "                #Example\n",
    "                engagement = np.array([5, 3, 3])\n",
    "                yes = np.array([2, 0, 3])\n",
    "                Output is \"[1] 1 0 1 0 0 0 0 0 1 1 1\", showing a binary array of 5+3+3 values\n",
    "                of which 2 of the first 5 are ones, 0 of the next 3 are ones, and all 3 of\n",
    "                the last 3 are ones where position the ones is randomly distributed within each group.\n",
    "    '''\n",
    "\n",
    "    def get_bernouli_series(engagment_list, success_list):\n",
    "        bernouli_series = []\n",
    "\n",
    "        for engagment, success in zip(engagment_list, success_list):\n",
    "            no_list = (engagment - success) * [0]\n",
    "            yes_list = (success) * [1]\n",
    "            series_item = yes_list + no_list\n",
    "            random.shuffle(series_item)\n",
    "            bernouli_series += series_item\n",
    "        return np.array(bernouli_series)\n",
    "\n",
    "    clean_df = df.query(\"not (yes == 0 & no == 0)\")\n",
    "\n",
    "    exposed = clean_df[clean_df['experiment'] == 'exposed']\n",
    "    control = clean_df[clean_df['experiment'] == 'control']\n",
    "\n",
    "    # group data into hours.\n",
    "    control['hour'] = control['hour'].astype('str')\n",
    "    control['date_hour'] = pd.to_datetime(control['date'] + \" \" + control['hour'] + \":00:00\")\n",
    "    control['date_hour'] = control['date_hour'].map(lambda x:  pd.Timestamp(x, tz=None).strftime('%Y-%m-%d:%H'))\n",
    "\n",
    "    exposed['hour'] = exposed['hour'].astype('str')\n",
    "    exposed['date_hour'] = pd.to_datetime( exposed['date'] + \" \" + exposed['hour'] + \":00:00\")\n",
    "    exposed['date_hour'] = exposed['date_hour'].map( lambda x:  pd.Timestamp(x, tz=None).strftime('%Y-%m-%d:%H'))\n",
    "\n",
    "    # create two dataframes with bernouli series 1 for positive(yes) and 0 for negative(no)\n",
    "    cont = exposed.groupby('date_hour').agg({'yes': 'sum', 'no': 'count'})\n",
    "    cont = cont.rename(columns={'no': 'total'})\n",
    "    control_bernouli = get_bernouli_series(\n",
    "        cont['total'].to_list(), cont['yes'].to_list())\n",
    "\n",
    "    exp = exposed.groupby('date_hour').agg({'yes': 'sum', 'no': 'count'})\n",
    "    exp = exp.rename(columns={'no': 'total'})\n",
    "    exposed_bernouli = get_bernouli_series(\n",
    "        exp['total'].to_list(), exp['yes'].to_list())\n",
    "\n",
    "    return control_bernouli, exposed_bernouli"
   ]
  },
  {
   "cell_type": "markdown",
   "id": "21db561a",
   "metadata": {},
   "source": [
    "### Conditional SPRT"
   ]
  },
  {
   "cell_type": "code",
   "execution_count": null,
   "id": "1ec323a6",
   "metadata": {},
   "outputs": [],
   "source": []
  }
 ],
 "metadata": {
  "kernelspec": {
   "display_name": "Python 3 (ipykernel)",
   "language": "python",
   "name": "python3"
  },
  "language_info": {
   "codemirror_mode": {
    "name": "ipython",
    "version": 3
   },
   "file_extension": ".py",
   "mimetype": "text/x-python",
   "name": "python",
   "nbconvert_exporter": "python",
   "pygments_lexer": "ipython3",
   "version": "3.8.8"
  },
  "vscode": {
   "interpreter": {
    "hash": "3d350ceaf2a433bb4cd624367d3e2a21cd2ba15acc482de7228f664ee2772c36"
   }
  }
 },
 "nbformat": 4,
 "nbformat_minor": 5
}
