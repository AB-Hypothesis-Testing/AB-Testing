{
 "cells": [
  {
   "cell_type": "markdown",
   "id": "5a1017ea",
   "metadata": {},
   "source": [
    "## Sequential A/B Testing"
   ]
  },
  {
   "cell_type": "markdown",
   "id": "35c4fd0e",
   "metadata": {},
   "source": [
    "### Importing Liberaries"
   ]
  },
  {
   "cell_type": "code",
   "execution_count": 1,
   "id": "d330eae3",
   "metadata": {},
   "outputs": [
    {
     "ename": "ModuleNotFoundError",
     "evalue": "No module named 'matplotlib.colorbar'",
     "output_type": "error",
     "traceback": [
      "\u001b[1;31m---------------------------------------------------------------------------\u001b[0m",
      "\u001b[1;31mModuleNotFoundError\u001b[0m                       Traceback (most recent call last)",
      "\u001b[1;32m<ipython-input-1-a50adbcfc00f>\u001b[0m in \u001b[0;36m<module>\u001b[1;34m\u001b[0m\n\u001b[0;32m      5\u001b[0m \u001b[1;32mimport\u001b[0m \u001b[0mnumpy\u001b[0m \u001b[1;32mas\u001b[0m \u001b[0mnp\u001b[0m\u001b[1;33m\u001b[0m\u001b[1;33m\u001b[0m\u001b[0m\n\u001b[0;32m      6\u001b[0m \u001b[1;32mimport\u001b[0m \u001b[0mpandas\u001b[0m \u001b[1;32mas\u001b[0m \u001b[0mpd\u001b[0m\u001b[1;33m\u001b[0m\u001b[1;33m\u001b[0m\u001b[0m\n\u001b[1;32m----> 7\u001b[1;33m \u001b[1;32mimport\u001b[0m \u001b[0mmatplotlib\u001b[0m\u001b[1;33m.\u001b[0m\u001b[0mpyplot\u001b[0m \u001b[1;32mas\u001b[0m \u001b[0mplt\u001b[0m\u001b[1;33m\u001b[0m\u001b[1;33m\u001b[0m\u001b[0m\n\u001b[0m\u001b[0;32m      8\u001b[0m \u001b[1;32mimport\u001b[0m \u001b[0mwarnings\u001b[0m\u001b[1;33m\u001b[0m\u001b[1;33m\u001b[0m\u001b[0m\n\u001b[0;32m      9\u001b[0m \u001b[1;32mimport\u001b[0m \u001b[0mscipy\u001b[0m\u001b[1;33m.\u001b[0m\u001b[0mstats\u001b[0m \u001b[1;32mas\u001b[0m \u001b[0mscs\u001b[0m\u001b[1;33m\u001b[0m\u001b[1;33m\u001b[0m\u001b[0m\n",
      "\u001b[1;32mc:\\Users\\kachase\\Anaconda3\\lib\\site-packages\\matplotlib\\pyplot.py\u001b[0m in \u001b[0;36m<module>\u001b[1;34m\u001b[0m\n\u001b[0;32m     30\u001b[0m \u001b[1;32mfrom\u001b[0m \u001b[0mcycler\u001b[0m \u001b[1;32mimport\u001b[0m \u001b[0mcycler\u001b[0m\u001b[1;33m\u001b[0m\u001b[1;33m\u001b[0m\u001b[0m\n\u001b[0;32m     31\u001b[0m \u001b[1;32mimport\u001b[0m \u001b[0mmatplotlib\u001b[0m\u001b[1;33m\u001b[0m\u001b[1;33m\u001b[0m\u001b[0m\n\u001b[1;32m---> 32\u001b[1;33m \u001b[1;32mimport\u001b[0m \u001b[0mmatplotlib\u001b[0m\u001b[1;33m.\u001b[0m\u001b[0mcolorbar\u001b[0m\u001b[1;33m\u001b[0m\u001b[1;33m\u001b[0m\u001b[0m\n\u001b[0m\u001b[0;32m     33\u001b[0m \u001b[1;32mimport\u001b[0m \u001b[0mmatplotlib\u001b[0m\u001b[1;33m.\u001b[0m\u001b[0mimage\u001b[0m\u001b[1;33m\u001b[0m\u001b[1;33m\u001b[0m\u001b[0m\n\u001b[0;32m     34\u001b[0m \u001b[1;32mfrom\u001b[0m \u001b[0mmatplotlib\u001b[0m \u001b[1;32mimport\u001b[0m \u001b[0mrcsetup\u001b[0m\u001b[1;33m,\u001b[0m \u001b[0mstyle\u001b[0m\u001b[1;33m\u001b[0m\u001b[1;33m\u001b[0m\u001b[0m\n",
      "\u001b[1;31mModuleNotFoundError\u001b[0m: No module named 'matplotlib.colorbar'"
     ]
    }
   ],
   "source": [
    "import os\n",
    "import sys\n",
    "import random\n",
    "import math\n",
    "import numpy as np\n",
    "import pandas as pd\n",
    "import matplotlib.pyplot as plt\n",
    "import warnings\n",
    "import scipy.stats as scs\n",
    "import seaborn as sb\n",
    "warnings.filterwarnings(\"ignore\")"
   ]
  },
  {
   "cell_type": "code",
   "execution_count": null,
   "id": "e6b5f2b6",
   "metadata": {},
   "outputs": [],
   "source": []
  },
  {
   "cell_type": "code",
   "execution_count": 21,
   "id": "c934958c",
   "metadata": {},
   "outputs": [],
   "source": [
    "sys.path.append(os.path.abspath(os.path.join('../scripts')))\n",
    "from conditionasSPRT_module import ConditionalSPRT\n",
    "from transformer import transform_data"
   ]
  },
  {
   "cell_type": "markdown",
   "id": "981d0f90",
   "metadata": {},
   "source": [
    "### Load the data"
   ]
  },
  {
   "cell_type": "code",
   "execution_count": 4,
   "id": "972ac1a3",
   "metadata": {},
   "outputs": [
    {
     "data": {
      "text/html": [
       "<div>\n",
       "<style scoped>\n",
       "    .dataframe tbody tr th:only-of-type {\n",
       "        vertical-align: middle;\n",
       "    }\n",
       "\n",
       "    .dataframe tbody tr th {\n",
       "        vertical-align: top;\n",
       "    }\n",
       "\n",
       "    .dataframe thead th {\n",
       "        text-align: right;\n",
       "    }\n",
       "</style>\n",
       "<table border=\"1\" class=\"dataframe\">\n",
       "  <thead>\n",
       "    <tr style=\"text-align: right;\">\n",
       "      <th></th>\n",
       "      <th>auction_id</th>\n",
       "      <th>experiment</th>\n",
       "      <th>date</th>\n",
       "      <th>hour</th>\n",
       "      <th>device_make</th>\n",
       "      <th>platform_os</th>\n",
       "      <th>browser</th>\n",
       "      <th>yes</th>\n",
       "      <th>no</th>\n",
       "    </tr>\n",
       "  </thead>\n",
       "  <tbody>\n",
       "    <tr>\n",
       "      <th>0</th>\n",
       "      <td>0008ef63-77a7-448b-bd1e-075f42c55e39</td>\n",
       "      <td>exposed</td>\n",
       "      <td>2020-07-10</td>\n",
       "      <td>8</td>\n",
       "      <td>Generic Smartphone</td>\n",
       "      <td>6</td>\n",
       "      <td>Chrome Mobile</td>\n",
       "      <td>0</td>\n",
       "      <td>0</td>\n",
       "    </tr>\n",
       "    <tr>\n",
       "      <th>1</th>\n",
       "      <td>000eabc5-17ce-4137-8efe-44734d914446</td>\n",
       "      <td>exposed</td>\n",
       "      <td>2020-07-07</td>\n",
       "      <td>10</td>\n",
       "      <td>Generic Smartphone</td>\n",
       "      <td>6</td>\n",
       "      <td>Chrome Mobile</td>\n",
       "      <td>0</td>\n",
       "      <td>0</td>\n",
       "    </tr>\n",
       "    <tr>\n",
       "      <th>2</th>\n",
       "      <td>0016d14a-ae18-4a02-a204-6ba53b52f2ed</td>\n",
       "      <td>exposed</td>\n",
       "      <td>2020-07-05</td>\n",
       "      <td>2</td>\n",
       "      <td>E5823</td>\n",
       "      <td>6</td>\n",
       "      <td>Chrome Mobile WebView</td>\n",
       "      <td>0</td>\n",
       "      <td>1</td>\n",
       "    </tr>\n",
       "    <tr>\n",
       "      <th>3</th>\n",
       "      <td>00187412-2932-4542-a8ef-3633901c98d9</td>\n",
       "      <td>control</td>\n",
       "      <td>2020-07-03</td>\n",
       "      <td>15</td>\n",
       "      <td>Samsung SM-A705FN</td>\n",
       "      <td>6</td>\n",
       "      <td>Facebook</td>\n",
       "      <td>0</td>\n",
       "      <td>0</td>\n",
       "    </tr>\n",
       "    <tr>\n",
       "      <th>4</th>\n",
       "      <td>001a7785-d3fe-4e11-a344-c8735acacc2c</td>\n",
       "      <td>control</td>\n",
       "      <td>2020-07-03</td>\n",
       "      <td>15</td>\n",
       "      <td>Generic Smartphone</td>\n",
       "      <td>6</td>\n",
       "      <td>Chrome Mobile</td>\n",
       "      <td>0</td>\n",
       "      <td>0</td>\n",
       "    </tr>\n",
       "  </tbody>\n",
       "</table>\n",
       "</div>"
      ],
      "text/plain": [
       "                             auction_id experiment        date  hour  \\\n",
       "0  0008ef63-77a7-448b-bd1e-075f42c55e39    exposed  2020-07-10     8   \n",
       "1  000eabc5-17ce-4137-8efe-44734d914446    exposed  2020-07-07    10   \n",
       "2  0016d14a-ae18-4a02-a204-6ba53b52f2ed    exposed  2020-07-05     2   \n",
       "3  00187412-2932-4542-a8ef-3633901c98d9    control  2020-07-03    15   \n",
       "4  001a7785-d3fe-4e11-a344-c8735acacc2c    control  2020-07-03    15   \n",
       "\n",
       "          device_make  platform_os                browser  yes  no  \n",
       "0  Generic Smartphone            6          Chrome Mobile    0   0  \n",
       "1  Generic Smartphone            6          Chrome Mobile    0   0  \n",
       "2               E5823            6  Chrome Mobile WebView    0   1  \n",
       "3   Samsung SM-A705FN            6               Facebook    0   0  \n",
       "4  Generic Smartphone            6          Chrome Mobile    0   0  "
      ]
     },
     "execution_count": 4,
     "metadata": {},
     "output_type": "execute_result"
    }
   ],
   "source": [
    "df = pd.read_csv(\"../data/AdSmartABdata.csv\")\n",
    "df.head()"
   ]
  },
  {
   "cell_type": "markdown",
   "id": "41fa01a5",
   "metadata": {},
   "source": [
    "### Transforming the data"
   ]
  },
  {
   "cell_type": "code",
   "execution_count": 27,
   "id": "80012d71",
   "metadata": {},
   "outputs": [],
   "source": [
    "def transform_data(df):\n",
    "    '''\n",
    "        segment data into exposed and control groups\n",
    "        consider that SmartAd runs the experment hourly, group data into hours. \n",
    "            Hint: create new column to hold date+hour and use df.column.map(lambda x:  pd.Timestamp(x,tz=None).strftime('%Y-%m-%d:%H'))\n",
    "        create two dataframes with bernouli series 1 for posetive(yes) and 0 for negative(no)\n",
    "            Hint: Given engagement(sum of yes and no until current observation as an array) and success (yes countas an array), the method generates random binomial distribution\n",
    "                #Example\n",
    "                engagement = np.array([5, 3, 3])\n",
    "                yes = np.array([2, 0, 3])\n",
    "                Output is \"[1] 1 0 1 0 0 0 0 0 1 1 1\", showing a binary array of 5+3+3 values\n",
    "                of which 2 of the first 5 are ones, 0 of the next 3 are ones, and all 3 of\n",
    "                the last 3 are ones where position the ones is randomly distributed within each group.\n",
    "    '''\n",
    "\n",
    "    def get_bernouli_series(engagment_list, success_list):\n",
    "        bernouli_series = []\n",
    "\n",
    "        for engagment, success in zip(engagment_list, success_list):\n",
    "            no_list = (engagment - success) * [0]\n",
    "            yes_list = (success) * [1]\n",
    "            series_item = yes_list + no_list\n",
    "            random.shuffle(series_item)\n",
    "            bernouli_series += series_item\n",
    "        return np.array(bernouli_series)\n",
    "\n",
    "    clean_df = df.query(\"not (yes == 0 & no == 0)\")\n",
    "\n",
    "    exposed = clean_df[clean_df['experiment'] == 'exposed']\n",
    "    control = clean_df[clean_df['experiment'] == 'control']\n",
    "\n",
    "    # group data into hours.\n",
    "    control['hour'] = control['hour'].astype('str')\n",
    "    control['date_hour'] = pd.to_datetime(control['date'] + \" \" + control['hour'] + \":00:00\")\n",
    "    control['date_hour'] = control['date_hour'].map(lambda x:  pd.Timestamp(x, tz=None).strftime('%Y-%m-%d:%H'))\n",
    "\n",
    "    exposed['hour'] = exposed['hour'].astype('str')\n",
    "    exposed['date_hour'] = pd.to_datetime( exposed['date'] + \" \" + exposed['hour'] + \":00:00\")\n",
    "    exposed['date_hour'] = exposed['date_hour'].map( lambda x:  pd.Timestamp(x, tz=None).strftime('%Y-%m-%d:%H'))\n",
    "\n",
    "    # create two dataframes with bernouli series 1 for positive(yes) and 0 for negative(no)\n",
    "    cont = exposed.groupby('date_hour').agg({'yes': 'sum', 'no': 'count'})\n",
    "    cont = cont.rename(columns={'no': 'total'})\n",
    "    control_bernouli = get_bernouli_series(\n",
    "        cont['total'].to_list(), cont['yes'].to_list())\n",
    "\n",
    "    exp = exposed.groupby('date_hour').agg({'yes': 'sum', 'no': 'count'})\n",
    "    exp = exp.rename(columns={'no': 'total'})\n",
    "    exposed_bernouli = get_bernouli_series(\n",
    "        exp['total'].to_list(), exp['yes'].to_list())\n",
    "\n",
    "    return control_bernouli, exposed_bernouli"
   ]
  },
  {
   "cell_type": "code",
   "execution_count": 26,
   "id": "7824e046",
   "metadata": {
    "scrolled": true
   },
   "outputs": [],
   "source": [
    "#control_bernouli, exposed_bernouli = transform_data(df)"
   ]
  },
  {
   "cell_type": "markdown",
   "id": "21db561a",
   "metadata": {},
   "source": [
    "### Conditional SPRT"
   ]
  },
  {
   "cell_type": "code",
   "execution_count": 34,
   "id": "1ec323a6",
   "metadata": {},
   "outputs": [],
   "source": [
    "def conditionalSPRT(x,y,t1,alpha=0.05,beta=0.10,stop=None):\n",
    "    \"\"\"\n",
    "    #\n",
    "    # Meeker's SPRT for matched `x` (treatment) and `y` (control), \n",
    "    # both indicator responses, likelihood ratio t1, error rates alpha and beta,\n",
    "    # and (optionally) truncation after trial stop.\n",
    "    #\n",
    "    # The return variable contains these elements:\n",
    "    #(outcome,n, k,l,u,truncated,truncate_decision,x1,r,stats,limits)\n",
    "    # * outcome:   \"continue,\" \"reject null,\" or \"accept null\".\n",
    "    # * n: number observation used for the decsion\n",
    "    # * k:     Index at which the outcome decision was made (or NA)\n",
    "    # * l:     lower critical point\n",
    "    # * u:     upper critical point\n",
    "    # * truncate_decision: The approximate decision made after truncate point\n",
    "    # * truncated: If the test was truncated, the value of `n.0`; NA otherwise\n",
    "    # * x1:       Original data `x`, cumulative\n",
    "    # * r:         Cumulative sum of x+y\n",
    "    # * stats:     Series of cumulative sums of log probability ratios\n",
    "    # * limits:    Two rows giving lower and upper critical limits, respectively\n",
    "    #\n",
    "    \"\"\"\n",
    "    if t1<=1:\n",
    "        printLog('warning',\"Odd ratio should exceed 1.\")\n",
    "    if (alpha >0.5) | (beta >0.5):\n",
    "        printLog('warning',\"Unrealistic values of alpha or beta were passed.\"\n",
    "                    +\" You should have good reason to use large alpha & beta values\")\n",
    "    if stop!=None:\n",
    "        stop=math.floor(n0)\n",
    "\n",
    "    def comb(n, k):\n",
    "        return math.factorial(n) // math.factorial(k) // math.factorial(n - k)\n",
    "\n",
    "    def lchoose(b, j):\n",
    "        a=[]\n",
    "        if (type(j) is list) | (isinstance(j,np.ndarray)==True):\n",
    "            if len(j)<2:\n",
    "                j=j[0]\n",
    "        if (type(j) is list) | (isinstance(j,np.ndarray)==True):\n",
    "            for k in j:\n",
    "                n=b\n",
    "                if (0 <= k) & (k<= n):\n",
    "                    a.append(math.log(comb(n,k)))\n",
    "                else:\n",
    "                    a.append(0)\n",
    "        else:\n",
    "            n=b\n",
    "            k=j\n",
    "            if (0 <= k) & (k<= n):\n",
    "                a.append(math.log(comb(n,k)))\n",
    "            else:\n",
    "                a.append(0)\n",
    "\n",
    "        return np.array(a)\n",
    "\n",
    "    def g(x,r,n,t1,t0=1):\n",
    "        \"\"\"\n",
    "        #\n",
    "        # Meeker's (1981) function `g`, the log probability ratio.\n",
    "        # \n",
    "        \"\"\"\n",
    "        return -math.log(h(x,r,n,t1))+math.log(h(x,r,n,t0))\n",
    "\n",
    "    def h(x,r,n,t=1):\n",
    "        \"\"\"\n",
    "        #\n",
    "        # Reciprocal of Meeker's (1981) function `h`: the conditional probability of \n",
    "        # `x` given `r` and `n`, when the odds ratio is `t`.\n",
    "        #\n",
    "        # `x` is his \"x1\", the number of positives in `n` control trials.\n",
    "        # `r` is the total number of positives.\n",
    "        # `n` is the number of (control, treatment) pairs.\n",
    "        # `t` is the odds ratio.\n",
    "        #\n",
    "        \"\"\"\n",
    "        return f(r,n,t,offset=ftermlog(x,r,n,t))\n",
    "\n",
    "    def f(r,n,t,offset=0):\n",
    "        \"\"\"#\n",
    "        # Meeker's (1981) function exp(F(r,n,t)), proportional to the probability of \n",
    "        #  `r` (=x1+x2) in `n` paired trials with an odds ratio of `t`.\n",
    "        #\n",
    "        # This function does *not* vectorize over its arguments.\n",
    "        #\"\"\"\n",
    "        upper=max(0,r-n)\n",
    "        lower=min(n,r)\n",
    "        rng=list(range(upper,lower+1))\n",
    "        return np.sum(fterm(rng,r,n,t,offset))\n",
    "\n",
    "    def fterm(j,r,n,t,offset=0):\n",
    "        ftlog=ftermlog(j,r,n,t,offset)\n",
    "        return np.array([math.exp(ex) for ex in ftlog])\n",
    "\n",
    "    def ftermlog(j,r,n,t,offset=0):\n",
    "        \"\"\"\n",
    "        #\n",
    "        # Up to an additive constant, the log probability that (x1, x1+x2) = (j, r) \n",
    "        # in `n` paired trials with odds ratio of `t`.\n",
    "        #\n",
    "        # `offset` is used to adjust the result to avoid under/overflow.\n",
    "        #\n",
    "        \"\"\"\n",
    "        xx=r-j\n",
    "        lch=lchoose(n,j)\n",
    "        lchdiff=lchoose(n,xx)\n",
    "        lg=np.array(j)*math.log(t)\n",
    "        lgsum=lch+lchdiff\n",
    "        lgsum2=lgsum+lg\n",
    "        lgdiff=lgsum2-offset\n",
    "\n",
    "        return lgdiff\n",
    "\n",
    "    def logf(r,n,t,offset=0):\n",
    "        \"\"\"\n",
    "        #\n",
    "        # A protected vesion of log(f), Meeker's function `F`.\n",
    "        #\n",
    "        \"\"\"\n",
    "        z=f(r,n,t,offset)\n",
    "        if z>0:\n",
    "            return math.log(z)\n",
    "        else:\n",
    "            return np.nan\n",
    "\n",
    "    def clowerUpper(r,n,t1c,t0=1,alpha=0.05,beta=0.10):\n",
    "        \"\"\"\n",
    "        #\n",
    "        # Meeker's (1981) functions c_L(r,n) and c_U(r,n), the  critical values for x1.\n",
    "        # 0 <= r <= 2n; t1 >= t0 > 0.\n",
    "        #\n",
    "        \"\"\"\n",
    "        offset=ftermlog(math.ceil(r/2),r,n,t1c)\n",
    "        z=logf(r,n,t1c,logf(r,n,t0,offset)+offset)\n",
    "        a=-math.log(alpha/(1-beta))\n",
    "        b=math.log(beta/(1-alpha))\n",
    "        lower=b\n",
    "        upper=1+a\n",
    "        return (np.array([lower,upper])+z)/math.log(t1c/t0)\n",
    "\n",
    "    l=math.log(beta/(1-alpha))\n",
    "    u=-math.log(alpha/(1-beta))\n",
    "    sample_size=min(len(x),len(y))\n",
    "    n=np.array(range(1,sample_size+1))\n",
    "\n",
    "    if stop!=None:\n",
    "        n=np.array([z for z in n if z<=stop])\n",
    "    x1=np.cumsum(x[n-1])\n",
    "    r=x1+np.cumsum(y[n-1])\n",
    "    stats=np.array(list(map(g,x1, r, n, [t1]*len(x1)))) #recurcively calls g\n",
    "        #\n",
    "        # Perform the test by finding the first index, if any, at which `stats`\n",
    "        # falls outside the open interval (l, u).\n",
    "        #\n",
    "    clu=list(map(clowerUpper,r,n,[t1]*len(r),[1]*len(r),[alpha]*len(r), [beta]*len(r)))\n",
    "    limits=[]\n",
    "    for v in clu:\n",
    "        inArray=[]\n",
    "        for vin in v:\n",
    "            inArray.append(math.floor(vin))\n",
    "        limits.append(np.array(inArray))\n",
    "    limits=np.array(limits)\n",
    "\n",
    "    k=np.where((stats>=u) | (stats<=l))\n",
    "    cvalues=stats[k]\n",
    "    if cvalues.shape[0]<1:\n",
    "        k= np.nan\n",
    "        outcome='Unable to conclude.Needs more sample.'\n",
    "    else:\n",
    "        k=np.min(k)\n",
    "        if stats[k]>=u:\n",
    "            outcome=f'Exposed group produced a statistically significant increase.'\n",
    "        else:\n",
    "            outcome='Their is no statistically significant difference between two test groups'\n",
    "    if (stop!=None) & (k==np.nan):\n",
    "        #\n",
    "        # Truncate at trial stop, using Meeker's H0-conservative formula (2.2).\n",
    "        # Leave k=NA to indicate the decision was made due to truncation.\n",
    "        #\n",
    "        c1=clowerUpper(r,stop,t1,alpha,beta)\n",
    "        c1=math.floor(np.mean(c1)-0.5)\n",
    "        if x1[n0]<=c1:\n",
    "            truncate_decision='h0'\n",
    "            outcome='Maximum Limit Decision. The aproximate decision point shows their is no statistically significant difference between two test groups'\n",
    "        else:\n",
    "            truncate_decision='h1'\n",
    "            outcome=f'Maximum Limit Decision. The aproximate decision point shows exposed group produced a statistically significant increase.'\n",
    "        truncated=stop\n",
    "    else:\n",
    "        truncate_decision='Non'\n",
    "        truncated=np.nan\n",
    "    return (outcome,n, k,l,u,truncated,truncate_decision,x1,r,stats,limits)"
   ]
  },
  {
   "cell_type": "code",
   "execution_count": 35,
   "id": "faaa5460",
   "metadata": {},
   "outputs": [],
   "source": [
    "#REFERENCE\n",
    "# A Conditional Sequential Test for the Equality of Two Binomial Proportions\n",
    "# William Q. Meeker, Jr\n",
    "# Journal of the Royal Statistical Society. Series C (Applied Statistics)\n",
    "# Vol. 30, No. 2 (1981), pp. 109-115\n",
    "class ConditionalSPRT:\n",
    "    def __init__(self, exposed, control, odd_ratio, alpha=0.05, beta=0.10, stop=None):\n",
    "        self.exposed = exposed\n",
    "        self.control = control\n",
    "        self.odd_ratio = odd_ratio\n",
    "        self.alpha = alpha\n",
    "        self.beta = beta\n",
    "        self.stop = stop\n",
    "\n",
    "    def run(self):\n",
    "        res = conditionalSPRT( self.exposed,\n",
    "                               self.control,\n",
    "                               self.odd_ratio,\n",
    "                               self.alpha,\n",
    "                               self.beta,\n",
    "                               self.stop)\n",
    "        return res\n",
    "\n",
    "    def jsonResult(self, res):\n",
    "        outcome,n, k,l,u,truncated,truncate_decision,x1,r,stats,limits = res\n",
    "        res = {\n",
    "            \"decsionMade\": outcome,\n",
    "            \"numberOfObservation\": len(n),\n",
    "            \"truncated\": truncated,\n",
    "            \"truncateDecision\": truncate_decision\n",
    "        }\n",
    "        return res\n",
    "\n",
    "    def plotExperiment(self, res):\n",
    "        outcome,n, k,l,u,truncated,truncate_decision,x1,r,stats,limits = res\n",
    "        lower = limits[:, 0]\n",
    "        upper = limits[:,1]\n",
    "\n",
    "        fig, ax = plt.subplots(figsize=(12,7))\n",
    "        ax.plot(n, x1, label='Cumlative value of yes+no')\n",
    "\n",
    "        ax.plot(n, lower, label='Lower Bound')\n",
    "        ax.plot(n, upper, label='Upper Bound')\n",
    "\n",
    "        plt.legend()\n",
    "        plt.show()"
   ]
  },
  {
   "cell_type": "markdown",
   "id": "9bbb22b7",
   "metadata": {},
   "source": [
    "### A/B Test run"
   ]
  },
  {
   "cell_type": "code",
   "execution_count": null,
   "id": "55434cf4",
   "metadata": {},
   "outputs": [],
   "source": []
  },
  {
   "cell_type": "code",
   "execution_count": 36,
   "id": "5769965c",
   "metadata": {},
   "outputs": [
    {
     "data": {
      "text/plain": [
       "{'decsionMade': 'Unable to conclude.Needs more sample.',\n",
       " 'numberOfObservation': 657,\n",
       " 'truncated': nan,\n",
       " 'truncateDecision': 'Non'}"
      ]
     },
     "execution_count": 36,
     "metadata": {},
     "output_type": "execute_result"
    }
   ],
   "source": [
    "alpha = 0.5\n",
    "beta = 0.10\n",
    "exposed,  control = transform_data(df)\n",
    "odd_ratio = 1.1\n",
    "\n",
    "conditionalSPRTObj = ConditionalSPRT(exposed, control, odd_ratio, alpha, beta)\n",
    "conditionalSPRTObj.run()\n",
    "res = conditionalSPRTObj.run()\n",
    "conditionalSPRTObj.jsonResult(res)"
   ]
  },
  {
   "cell_type": "code",
   "execution_count": 38,
   "id": "ae5c2194",
   "metadata": {},
   "outputs": [
    {
     "data": {
      "image/png": "[encoded data removed]",
      "text/plain": [
       "<Figure size 864x504 with 1 Axes>"
      ]
     },
     "metadata": {
      "needs_background": "light"
     },
     "output_type": "display_data"
    }
   ],
   "source": [
    "test_a=conditionalSPRTObj.plotExperiment(res)\n",
    "test_a"
   ]
  },
  {
   "cell_type": "markdown",
   "id": "1fcc5526",
   "metadata": {},
   "source": [
    "***-The result shows that more samples are required to continue testing***"
   ]
  },
  {
   "cell_type": "code",
   "execution_count": 44,
   "id": "6d7974ba",
   "metadata": {},
   "outputs": [
    {
     "data": {
      "text/plain": [
       "Text(0.5, 0, 'cummulative success')"
      ]
     },
     "execution_count": 44,
     "metadata": {},
     "output_type": "execute_result"
    },
    {
     "data": {
      "image/png": "[encoded data removed]",
      "text/plain": [
       "<Figure size 576x432 with 1 Axes>"
      ]
     },
     "metadata": {
      "needs_background": "light"
     },
     "output_type": "display_data"
    }
   ],
   "source": [
    "exposed,control=transform_data(df)\n",
    "fig, ax = plt.subplots(figsize=(8,6))\n",
    "kwargs = {'cumulative': True}\n",
    "sb.distplot(exposed, hist_kws=kwargs, kde_kws=kwargs, color = 'black')\n",
    "sb.distplot(control, hist_kws=kwargs, kde_kws=kwargs, color = 'green')\n",
    "plt.title('A histogram indicating cummulative distributions of success in the 2 groups black: control, green:exposed')\n",
    "plt.ylabel('frequency')\n",
    "plt.xlabel('cummulative success')"
   ]
  },
  {
   "cell_type": "code",
   "execution_count": null,
   "id": "c13b323f",
   "metadata": {},
   "outputs": [],
   "source": []
  }
 ],
 "metadata": {
  "kernelspec": {
   "display_name": "Python 3.7.3 ('base')",
   "language": "python",
   "name": "python3"
  },
  "language_info": {
   "codemirror_mode": {
    "name": "ipython",
    "version": 3
   },
   "file_extension": ".py",
   "mimetype": "text/x-python",
   "name": "python",
   "nbconvert_exporter": "python",
   "pygments_lexer": "ipython3",
   "version": "3.7.3"
  },
  "vscode": {
   "interpreter": {
    "hash": "2bc641dd343959d58d23797c1b81bd73516af7b83f7aab1b5f1293ef47a053d7"
   }
  }
 },
 "nbformat": 4,
 "nbformat_minor": 5
}
