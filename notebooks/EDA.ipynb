{
 "cells": [
  {
   "cell_type": "markdown",
   "id": "809bf1a0",
   "metadata": {},
   "source": [
    "## Load Important Liberaries"
   ]
  },
  {
   "cell_type": "code",
n
   "id": "f9144999",
   "metadata": {},
   "outputs": [],
   "source": [
    "import scipy\n",
    "\n",
    "import numpy as np\n",
    "import pandas as pd\n",
    "import seaborn as sns\n",
    "import scipy.stats as scs\n",
    "import plotly.express as px\n",
    "import plotly.graph_objects as go\n",
    "import matplotlib.pyplot as plt\n",
    "from plotly.subplots import make_subplots\n",
    "import sys, os\n",
    "import warnings\n",
    "warnings.filterwarnings('ignore')"
   ]
  },
  {
   "cell_type": "code",

   "id": "190a8574",
   "metadata": {
    "scrolled": true
   },
   "outputs": [],
   "source": [
    "sys.path.append(os.path.abspath(os.path.join('../scripts')))\n",
    "from helpe_my_test import *\n"
   ]
  },
  {
   "cell_type": "markdown",
   "id": "670dfd2b",
   "metadata": {},
   "source": [
    "## Load Data"
   ]
  },
  {
   "cell_type": "code",

   "metadata": {
    "scrolled": true
   },
   "outputs": [
    {

     ]
    }
   ],
   "source": [

   ]
  },
  {
   "cell_type": "code",

   ]
  },
  {
   "cell_type": "code",

   "metadata": {},
   "outputs": [
    {
     "data": {
      "text/plain": [
       "8077"
      ]
     },
     "execution_count": 9,
     "metadata": {},
     "output_type": "execute_result"
    }
   ],
   "source": [
    "# unique value counts\n",
    "unique_counts = df['auction_id'].nunique()\n",
    "unique_counts"
   ]
  },
  {
   "cell_type": "markdown",
   "id": "5f49c35a",
   "metadata": {},
   "source": [
    "This indicates that each auction id is unique."
   ]
  },
  {
   "cell_type": "markdown",
   "id": "c4e90c4a",
   "metadata": {},
   "source": [
    "### Expierment"
   ]
  },
  {
   "cell_type": "code",
   "execution_count": 10,
   "id": "2a6d3f6c",
   "metadata": {},
   "outputs": [
    {
     "data": {
      "text/plain": [
       "control    4071\n",
       "exposed    4006\n",
       "Name: experiment, dtype: int64"
      ]
     },
     "execution_count": 10,
     "metadata": {},
     "output_type": "execute_result"
    }
   ],
   "source": [
    "# unique value counts\n",
    "counts_df = df['experiment'].value_counts()\n",
    "counts_df"
   ]
  },
  {
   "cell_type": "code",
   "execution_count": 11,
   "id": "b13059d9",
   "metadata": {},
   "outputs": [
    {
     "data": {
      "image/png": "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\n",
      "text/plain": [
       "<Figure size 432x288 with 1 Axes>"
      ]
     },
     "metadata": {
      "needs_background": "light"
     },
     "output_type": "display_data"
    }
   ],
   "source": [
    "sns.countplot(data=df, x='experiment')\n",
    "plt.title('Unique value counts of the experiment column');"
   ]
  },
  {
   "cell_type": "code",
   "execution_count": null,
   "id": "82883f20",
   "metadata": {},
   "outputs": [],
   "source": []
  }
 ],
 "metadata": {
  "kernelspec": {
   "display_name": "Python 3 (ipykernel)",
   "language": "python",
   "name": "python3"
  },
  "language_info": {
   "codemirror_mode": {
    "name": "ipython",
    "version": 3
   },
   "file_extension": ".py",
   "mimetype": "text/x-python",
   "name": "python",
   "nbconvert_exporter": "python",
   "pygments_lexer": "ipython3",
   "version": "3.9.7"
  }
 },
 "nbformat": 4,
 "nbformat_minor": 5
}
