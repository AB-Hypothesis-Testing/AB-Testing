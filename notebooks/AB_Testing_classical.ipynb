{
 "cells": [
  {
   "cell_type": "markdown",
   "id": "372f932c",
   "metadata": {},
   "source": [
    "## Classical A/B Testing"
   ]
  },
  {
   "cell_type": "markdown",
   "id": "46cdc253",
   "metadata": {},
   "source": [
    "### Loading liberaries"
   ]
  },
  {
   "cell_type": "code",
   "execution_count": 1,
   "id": "8911fa9a",
   "metadata": {},
   "outputs": [],
   "source": [
    "import numpy as np\n",
    "import pandas as pd\n",
    "import matplotlib.pyplot as plt\n",
    "import warnings\n",
    "import scipy\n",
    "import scipy.stats as scs\n",
    "warnings.filterwarnings(\"ignore\")"
   ]
  },
  {
   "cell_type": "code",
   "execution_count": null,
   "id": "157158d5",
   "metadata": {},
   "outputs": [],
   "source": []
  }
 ],
 "metadata": {
  "kernelspec": {
   "display_name": "Python 3 (ipykernel)",
   "language": "python",
   "name": "python3"
  },
  "language_info": {
   "codemirror_mode": {
    "name": "ipython",
    "version": 3
   },
   "file_extension": ".py",
   "mimetype": "text/x-python",
   "name": "python",
   "nbconvert_exporter": "python",
   "pygments_lexer": "ipython3",
   "version": "3.9.7"
  }
 },
 "nbformat": 4,
 "nbformat_minor": 5
}
